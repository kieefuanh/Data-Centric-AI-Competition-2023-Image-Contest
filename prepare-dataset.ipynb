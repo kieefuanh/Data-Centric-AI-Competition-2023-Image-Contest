{
 "cells": [
  {
   "cell_type": "markdown",
   "metadata": {},
   "source": [
    "# Import"
   ]
  },
  {
   "cell_type": "code",
   "execution_count": null,
   "metadata": {},
   "outputs": [],
   "source": [
    "import os\n",
    "import shutil\n",
    "from glob import glob\n",
    "from collections import defaultdict"
   ]
  },
  {
   "cell_type": "code",
   "execution_count": null,
   "metadata": {},
   "outputs": [],
   "source": [
    "import pandas as pd\n",
    "import splitfolders"
   ]
  },
  {
   "cell_type": "markdown",
   "metadata": {},
   "source": [
    "# Make class folder"
   ]
  },
  {
   "cell_type": "code",
   "execution_count": null,
   "metadata": {},
   "outputs": [],
   "source": [
    "# create folder from a-z and 2-8\n",
    "character_list = ['2', '3', '4', '5', '6', '7', '8', \n",
    "                    'a', 'b', 'c', 'd', 'e', 'f', 'g', 'h', \n",
    "                    'i', 'j', 'k', 'l', 'm', 'n', 'o', 'p', \n",
    "                    'q', 'r', 's', 't', 'u', 'v', 'w', 'x', \n",
    "                    'y', 'z'] \n",
    "processed_folder = 'artifacts/dataset' # folder of classed\n",
    "raw_folder = 'artifacts/train'"
   ]
  },
  {
   "cell_type": "code",
   "execution_count": null,
   "metadata": {},
   "outputs": [],
   "source": [
    "for character in character_list:\n",
    "    os.makedirs(os.path.join(processed_folder, character), exist_ok=True)"
   ]
  },
  {
   "cell_type": "code",
   "execution_count": null,
   "metadata": {},
   "outputs": [],
   "source": [
    "data = pd.read_csv('artifacts/train-labels.csv')\n",
    "data.head()"
   ]
  },
  {
   "cell_type": "code",
   "execution_count": null,
   "metadata": {},
   "outputs": [],
   "source": [
    "# get 50 images of each class from csv\n",
    "track_50 = defaultdict(lambda: 0)\n",
    "for index, r in data.iterrows():\n",
    "    # if track_50[r['label']] > 50: # get the first 50 imaage of each class\n",
    "    #     continue\n",
    "    # else:\n",
    "    #     track_50[r['label']] += 1\n",
    "    shutil.copyfile(os.path.join(raw_folder,r['img']), \n",
    "                    os.path.join(*[processed_folder, r['label'], r['img']]))"
   ]
  },
  {
   "cell_type": "markdown",
   "metadata": {},
   "source": [
    "# Split folder"
   ]
  },
  {
   "cell_type": "code",
   "execution_count": null,
   "metadata": {},
   "outputs": [],
   "source": [
    "# split train test val\n",
    "splitfolders.ratio('artifacts/dataset/',\n",
    "                     'artifacts/processed/splitfolder/',\n",
    "                      ratio=(.9, .05, .05),)"
   ]
  }
 ],
 "metadata": {
  "kernelspec": {
   "display_name": "Python 3.10.6 64-bit",
   "language": "python",
   "name": "python3"
  },
  "language_info": {
   "name": "python",
   "version": "3.10.6"
  },
  "orig_nbformat": 4,
  "vscode": {
   "interpreter": {
    "hash": "916dbcbb3f70747c44a77c7bcd40155683ae19c65e1c03b4aa3499c5328201f1"
   }
  }
 },
 "nbformat": 4,
 "nbformat_minor": 2
}
